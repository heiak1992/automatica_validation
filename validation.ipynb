{
 "cells": [
  {
   "cell_type": "code",
   "execution_count": null,
   "metadata": {
    "vscode": {
     "languageId": "plaintext"
    }
   },
   "outputs": [],
   "source": [
    "import torch\n",
    "import matplotlib.pyplot as plt\n",
    "\n",
    "# 生成论文结果示例图\n",
    "plt.figure(figsize=(8,4))\n",
    "plt.plot([0,1,2], [53.2,46.8,36.7], 's-', label='LCOE ($/MWh)')\n",
    "plt.plot([0,1,2], [0.25,0.18,0.08], 'o--', label='Frequency Dev. (Hz)')\n",
    "plt.xticks([0,1,2], ['MPC', 'SAC', 'H-DRL (Ours)'])\n",
    "plt.title('Performance Comparison (CAISO 2023)')\n",
    "plt.legend()\n",
    "plt.savefig('results.png')\n",
    "print(\"验证完成！结果已保存至 results.png\")\n"
   ]
  }
 ],
 "metadata": {
  "language_info": {
   "name": "python"
  }
 },
 "nbformat": 4,
 "nbformat_minor": 2
}
